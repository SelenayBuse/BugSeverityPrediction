{
  "nbformat": 4,
  "nbformat_minor": 0,
  "metadata": {
    "colab": {
      "provenance": []
    },
    "kernelspec": {
      "name": "python3",
      "display_name": "Python 3"
    },
    "language_info": {
      "name": "python"
    }
  },
  "cells": [
    {
      "cell_type": "code",
      "execution_count": null,
      "metadata": {
        "id": "JJ6hGhNPjbzZ",
        "colab": {
          "base_uri": "https://localhost:8080/"
        },
        "outputId": "5c227e85-e732-4d90-9ec6-85f8d77a64c8"
      },
      "outputs": [
        {
          "output_type": "stream",
          "name": "stdout",
          "text": [
            "Predictions saved to 'predicted_severities.csv'\n"
          ]
        }
      ],
      "source": [
        "import pandas as pd\n",
        "from sklearn.feature_extraction.text import TfidfVectorizer\n",
        "from sklearn.linear_model import LogisticRegression\n",
        "from sklearn.ensemble import RandomForestClassifier\n",
        "from sklearn.pipeline import Pipeline\n",
        "from sklearn.preprocessing import LabelEncoder\n",
        "from sklearn.ensemble import VotingClassifier\n",
        "\n",
        "# Load the training data\n",
        "train_data = pd.read_csv('bugs-train.csv')\n",
        "test_data = pd.read_csv('bugs-test.csv')\n",
        "\n",
        "# Preprocess the data\n",
        "# Combine summary and bug_id into a single feature (optional)\n",
        "train_data['text'] = train_data['bug_id'].astype(str) + ' ' + train_data['summary']\n",
        "test_data['text'] = test_data['bug_id'].astype(str) + ' ' + test_data['summary']\n",
        "\n",
        "# Encode the target variable\n",
        "label_encoder = LabelEncoder()\n",
        "train_data['severity_encoded'] = label_encoder.fit_transform(train_data['severity'])\n",
        "\n",
        "# Define the feature and target variable\n",
        "X_train = train_data['text']\n",
        "y_train = train_data['severity_encoded']\n",
        "X_test = test_data['text']\n",
        "\n",
        "# Create pipelines for both classifiers\n",
        "pipeline_lr = Pipeline([\n",
        "    ('vectorizer', TfidfVectorizer()),\n",
        "    ('classifier', LogisticRegression(max_iter=1000))\n",
        "])\n",
        "\n",
        "pipeline_rf = Pipeline([\n",
        "    ('vectorizer', TfidfVectorizer()),\n",
        "    ('classifier', RandomForestClassifier(n_estimators=100, random_state=42))\n",
        "])\n",
        "\n",
        "# Create a voting classifier with weighted voting\n",
        "voting_clf = VotingClassifier(\n",
        "    estimators=[('lr', pipeline_lr), ('rf', pipeline_rf)],\n",
        "    voting='soft',\n",
        "    weights=[1, 2]  # Assign weights to the classifiers\n",
        ")\n",
        "\n",
        "# Train the voting classifier\n",
        "voting_clf.fit(X_train, y_train)\n",
        "\n",
        "# Predict the severity for the test data\n",
        "predictions = voting_clf.predict(X_test)\n",
        "\n",
        "# Decode the predicted labels\n",
        "predicted_severities = label_encoder.inverse_transform(predictions)\n",
        "\n",
        "# Add predictions to the test data\n",
        "test_data['severity'] = predicted_severities\n",
        "\n",
        "# Save the predictions to a CSV file\n",
        "test_data[['bug_id', 'severity']].to_csv('predicted_severities.csv', index=False)\n",
        "\n",
        "print(\"Predictions saved to 'predicted_severities.csv'\")"
      ]
    }
  ]
}