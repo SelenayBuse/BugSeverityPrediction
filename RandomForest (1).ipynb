{
  "nbformat": 4,
  "nbformat_minor": 0,
  "metadata": {
    "colab": {
      "provenance": []
    },
    "kernelspec": {
      "name": "python3",
      "display_name": "Python 3"
    },
    "language_info": {
      "name": "python"
    }
  },
  "cells": [
    {
      "cell_type": "code",
      "execution_count": null,
      "metadata": {
        "id": "qNdMmdaTMCUy"
      },
      "outputs": [],
      "source": [
        "import pandas as pd\n",
        "from sklearn.feature_extraction.text import TfidfVectorizer\n",
        "from sklearn.ensemble import RandomForestClassifier\n",
        "from sklearn.pipeline import make_pipeline\n",
        "from sklearn.preprocessing import LabelEncoder\n",
        "\n",
        "# Load the training and test data\n",
        "train_data = pd.read_csv('bugs-train.csv')\n",
        "test_data = pd.read_csv('bugs-test.csv')\n",
        "\n",
        "# Preprocess the data\n",
        "X_train = train_data['summary']\n",
        "y_train = train_data['severity']\n",
        "X_test = test_data['summary']\n",
        "\n",
        "# Encode the labels\n",
        "label_encoder = LabelEncoder()\n",
        "y_train_encoded = label_encoder.fit_transform(y_train)\n",
        "\n",
        "# Create a pipeline to vectorize the text data and train a Random Forest classifier\n",
        "pipeline = make_pipeline(TfidfVectorizer(), RandomForestClassifier(n_estimators=100, random_state=42))\n",
        "\n",
        "# Train the model\n",
        "pipeline.fit(X_train, y_train_encoded)\n",
        "\n",
        "# Predict the severity of the bugs in the test data\n",
        "y_test_pred_encoded = pipeline.predict(X_test)\n",
        "y_test_pred = label_encoder.inverse_transform(y_test_pred_encoded)\n",
        "\n",
        "# Add the predictions to the test data\n",
        "test_data['severity'] = y_test_pred\n",
        "test_data.drop(columns=['summary'], inplace=True)\n",
        "\n",
        "# Save the predictions to a new CSV file\n",
        "test_data.to_csv('bugs-test-predictions_rndforest.csv', index=False)\n",
        "\n",
        "print(test_data)"
      ]
    }
  ]
}